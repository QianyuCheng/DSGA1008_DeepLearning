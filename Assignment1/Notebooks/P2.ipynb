{
 "cells": [
  {
   "cell_type": "markdown",
   "metadata": {},
   "source": [
    "# 2.1"
   ]
  },
  {
   "cell_type": "markdown",
   "metadata": {},
   "source": [
    "Let $f(\\theta)$ be the Objective function the descent algorithm trying to minimize. Define $0 \\leq \\mu \\leq 1$ to be the momentum coefficient, $\\epsilon>0$ be the learning rate and $v_t$ be the velocity vector at $step=t$. \n",
    "\n",
    "Using momentum method, the velocity vector $v_t$ and parameters $\\theta$ are updated by:\n",
    "$$\n",
    "\\begin{split}\n",
    "v_{t+1} &= \\mu v_t-\\epsilon \\triangledown f(\\theta_t) \\\\\n",
    "\\theta_{t+1} &= \\theta_t +v_{t+1}.\n",
    "\\end{split}\n",
    "$$\n",
    "Using Nesterov's Accelerated Gradient(NAG) method, the velocity vector $v_t$ and parameters $\\theta$ are updated by:\n",
    "$$\n",
    "\\begin{split}\n",
    "v_{t+1} &= \\mu v_t-\\epsilon \\triangledown f(\\theta_t+\\mu v_t) \\\\\n",
    "\\theta_{t+1} &= \\theta_t +v_{t+1}.\n",
    "\\end{split}\n",
    "$$\n",
    "\n",
    "Momentum and NAG method differs in how they update velocity vector $v_t$. The NAG method adjust $v_t$ with the gradient of $\\theta +\\mu v_t$ instead of only $\\theta$. In performance, NAG converges more stably than Momentum method since $\\theta +\\mu v_t$ is closer to $\\theta_{t+1}$ than $\\theta_t$ is, $\\triangledown f(\\theta_t+\\mu v_t)$ provides better correction if $\\mu v_t$ is an undesireble step. "
   ]
  }
 ],
 "metadata": {
  "anaconda-cloud": {},
  "kernelspec": {
   "display_name": "Python [conda root]",
   "language": "python",
   "name": "conda-root-py"
  },
  "language_info": {
   "codemirror_mode": {
    "name": "ipython",
    "version": 3
   },
   "file_extension": ".py",
   "mimetype": "text/x-python",
   "name": "python",
   "nbconvert_exporter": "python",
   "pygments_lexer": "ipython3",
   "version": "3.5.2"
  }
 },
 "nbformat": 4,
 "nbformat_minor": 1
}
