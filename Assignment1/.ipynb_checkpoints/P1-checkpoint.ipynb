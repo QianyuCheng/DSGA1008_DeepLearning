{
 "cells": [
  {
   "cell_type": "markdown",
   "metadata": {},
   "source": [
    "Sigmoid function"
   ]
  },
  {
   "cell_type": "markdown",
   "metadata": {},
   "source": [
    "$\\frac{\\partial \\mathbf{E}}{\\partial x_{out}}=\\frac{\\partial \\mathbf{E}}{\\partial x_{in}}(1+e^{-x_{in}})^{-1}=\\frac{\\partial \\mathbf{E}}{\\partial x_{in}}(1+e^{-x_{in}})^{-2}e^{x_{in}}$"
   ]
  },
  {
   "cell_type": "markdown",
   "metadata": {},
   "source": [
    "tanh"
   ]
  },
  {
   "cell_type": "markdown",
   "metadata": {},
   "source": [
    "$\\frac{\\partial \\mathbf{E}}{\\partial x_{out}}=\\frac{\\partial \\mathbf{E}}{\\partial x_{in}}\\frac{\\partial \\frac{sinh(x_{in})}{cosh(x_{in})}}{\\partial x_{in}}=sech^2(x_{in})$"
   ]
  },
  {
   "cell_type": "markdown",
   "metadata": {},
   "source": [
    "ReLu"
   ]
  },
  {
   "cell_type": "markdown",
   "metadata": {},
   "source": [
    "$\\frac{\\partial \\mathbf{E}}{\\partial x_{out}}=\\frac{\\partial \\mathbf{E}}{\\partial x_{in}}\\frac{\\partial ReLu(x_{in})}{\\partial x_{in}}=$\n",
    "$\n",
    "\\begin{cases} \n",
    "      0 & x\\leq 0 \\\\\n",
    "      \\frac{\\partial ReLu(x_{in})}{\\partial x_{in}} & x \\geq 0 \n",
    "\\end{cases}\n",
    "$"
   ]
  },
  {
   "cell_type": "markdown",
   "metadata": {},
   "source": [
    "# 1_2"
   ]
  },
  {
   "cell_type": "markdown",
   "metadata": {},
   "source": [
    "If $i\\neq j$:\n",
    "$$\n",
    "\\begin{split}\n",
    "\\frac{\\partial (x_{out})_{i}}{\\partial (x_{in})_{j}}&=e^{-\\beta (x_{in})_i} \\frac{\\partial  \\sum \\limits_k e^{-\\beta(x_{in})_k}}{\\partial (x_{in})_j} \\\\\n",
    "&=\\beta e^{-\\beta (x_{in})_i}(\\sum \\limits_k e^{-\\beta (x_{in})_k})^{-2}e^{-\\beta (x_{in})_j}\n",
    "\\end{split}\n",
    "$$\n",
    "\n",
    "If $i=j$:\n",
    "$$\n",
    "\\begin{split}\n",
    "\\frac{\\partial (x_{out})_{i}}{\\partial (x_{in})_{j}}&=\\frac{-\\beta(\\sum \\limits_k e^{-\\beta (x_{in})_k})e^{-\\beta (x_{in})_j}+\\beta e^{-2\\beta (x_{in})_j}}{(\\sum \\limits_k e^{-\\beta (x_{in})_k})^2}\n",
    "\\end{split}\n",
    "$$"
   ]
  }
 ],
 "metadata": {
  "anaconda-cloud": {},
  "kernelspec": {
   "display_name": "Python [conda root]",
   "language": "python",
   "name": "conda-root-py"
  },
  "language_info": {
   "codemirror_mode": {
    "name": "ipython",
    "version": 3
   },
   "file_extension": ".py",
   "mimetype": "text/x-python",
   "name": "python",
   "nbconvert_exporter": "python",
   "pygments_lexer": "ipython3",
   "version": "3.5.2"
  }
 },
 "nbformat": 4,
 "nbformat_minor": 1
}
